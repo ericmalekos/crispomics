{
 "cells": [
  {
   "cell_type": "code",
   "execution_count": 4,
   "id": "f09b4599-9042-49c6-a76f-77e53df406f6",
   "metadata": {},
   "outputs": [],
   "source": [
    "from Bio import SeqIO\n",
    "from concurrent.futures import ProcessPoolExecutor"
   ]
  },
  {
   "cell_type": "code",
   "execution_count": 1,
   "id": "4f2967b5-ee9e-4656-ae1b-cf03e06877fd",
   "metadata": {},
   "outputs": [
    {
     "name": "stdout",
     "output_type": "stream",
     "text": [
      "filtered_file.csv          launch.json            test\n",
      "\u001b[0m\u001b[01;34mfinal\u001b[0m/                     out.bed                \u001b[01;34mtmp\u001b[0m/\n",
      "finalKmers.bed             PlotGuideScores.ipynb  trimmedAnnotation.gff\n",
      "gscan.csv                  README.md              trimmed.gtf\n",
      "guideScanOut_complete.csv  ScoringGuides.ipynb    Untitled.ipynb\n",
      "guideScanOut.csv           SPI1.gff3              \u001b[01;34mutils\u001b[0m/\n",
      "kmers.bed                  SPI1.gff3.db\n"
     ]
    }
   ],
   "source": [
    "ls"
   ]
  },
  {
   "cell_type": "code",
   "execution_count": 2,
   "id": "a316696e-cb19-411b-a6db-f4767ff6ce66",
   "metadata": {},
   "outputs": [],
   "source": [
    "fasta = \"../chr21Index/chr21.fa\""
   ]
  },
  {
   "cell_type": "code",
   "execution_count": 7,
   "id": "00c9da64-a651-4638-a323-eb10c18bfef5",
   "metadata": {},
   "outputs": [],
   "source": [
    "def extract_20mers_from_PAM(sequence, chromosome, pam_motifs=[\"AGG\", \"CGG\", \"TGG\", \"GGG\"]):\n",
    "    twenty_mers_info = []\n",
    "    for i in range(len(sequence) - 22):\n",
    "        for pam_motif in pam_motifs:\n",
    "            if sequence[i + 20:i + 23] == pam_motif:\n",
    "                twenty_mers_info.append((chromosome, i, sequence[i:i + 20]))\n",
    "    return twenty_mers_info\n",
    "\n",
    "def process_sequence(record):\n",
    "    return extract_20mers_from_PAM(str(record.seq), record.id)\n",
    "\n",
    "input_fasta_file = fasta\n",
    "output_file = \"pam_adjacent_20mers_with_info.txt\"\n",
    "\n",
    "# Assuming you want to utilize 4 cores for parallel processing.\n",
    "# Adjust based on your CPU availability.\n",
    "num_cores = 4\n",
    "all_twenty_mers_info = []\n",
    "\n",
    "with ProcessPoolExecutor(max_workers=num_cores) as executor:\n",
    "    for record in SeqIO.parse(input_fasta_file, \"fasta\"):\n",
    "        results = list(executor.map(process_sequence, [record]))\n",
    "        all_twenty_mers_info.extend(results[0])\n",
    "\n",
    "with open(output_file, 'w') as outfile:\n",
    "    for chrom, pos, twenty_mer in all_twenty_mers_info:\n",
    "        outfile.write(f\"{chrom}\\t{pos}\\t{twenty_mer}\\n\")"
   ]
  }
 ],
 "metadata": {
  "kernelspec": {
   "display_name": "Python 3 (ipykernel)",
   "language": "python",
   "name": "python3"
  },
  "language_info": {
   "codemirror_mode": {
    "name": "ipython",
    "version": 3
   },
   "file_extension": ".py",
   "mimetype": "text/x-python",
   "name": "python",
   "nbconvert_exporter": "python",
   "pygments_lexer": "ipython3",
   "version": "3.10.11"
  }
 },
 "nbformat": 4,
 "nbformat_minor": 5
}
