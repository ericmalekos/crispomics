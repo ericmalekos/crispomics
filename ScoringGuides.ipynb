{
 "cells": [
  {
   "cell_type": "code",
   "execution_count": 32,
   "id": "a2abed1d-efca-4bb2-a5d9-2a476e7cca4b",
   "metadata": {},
   "outputs": [],
   "source": [
    "import pandas as pd\n",
    "import subprocess\n",
    "import os\n",
    "from rs3.seq import predict_seq\n",
    "import time\n",
    "from scipy.stats import norm\n",
    "import matplotlib.pyplot as plt\n",
    "import numpy as np"
   ]
  },
  {
   "cell_type": "code",
   "execution_count": null,
   "id": "d446519f-af04-4631-9d96-a08e53f99cfd",
   "metadata": {},
   "outputs": [],
   "source": [
    "class Args:\n",
    "    threads = \"6\"\n",
    "    mismatches = \"5\"\n",
    "    #altpams = NAG\n",
    "    kmers = \"./\"\n",
    "    ouput= \"\"\n",
    "    "
   ]
  },
  {
   "cell_type": "code",
   "execution_count": null,
   "id": "c916f023-9eec-4ac9-807b-3f4bf0a69603",
   "metadata": {},
   "outputs": [],
   "source": [
    "os.chdir(\"./crispomics/\")"
   ]
  },
  {
   "cell_type": "code",
   "execution_count": 2,
   "id": "9d0aba47-4d49-4e58-862f-bb1c4483afe9",
   "metadata": {},
   "outputs": [
    {
     "name": "stdout",
     "output_type": "stream",
     "text": [
      "filtered_file.csv\t   launch.json\t\tSPI1.gff3.db\n",
      "FilterKmerBED\t\t   out.bed\t\tstdout\n",
      "finalKmers.bed\t\t   out.gff3\t\ttest\n",
      "GenerateKmerBED\t\t   output.gff3\t\ttmp\n",
      "gscan.csv\t\t   ProcessAnnotation\ttrimmedAnnotation.gff\n",
      "guideScanOut_complete.csv  README.md\t\ttrimmed.gtf\n",
      "guideScanOut.csv\t   ScoringGuides.ipynb\n",
      "kmers.bed\t\t   SPI1.gff3\n"
     ]
    }
   ],
   "source": [
    "!ls"
   ]
  },
  {
   "cell_type": "code",
   "execution_count": 2,
   "id": "5cbfb6d7-d2a1-4dda-8a57-9e93dc246a63",
   "metadata": {},
   "outputs": [],
   "source": [
    "def guideScanScoring(guideCSV, guideIndex, threads = 2, mismatches = 4):\n",
    "    tempOutput = './tmp/guideScanOut.csv'\n",
    "    cmd = [\n",
    "        'guidescan',\n",
    "        'enumerate',\n",
    "        '--max-off-targets',\n",
    "        '-1',\n",
    "        '--threads',\n",
    "        str(threads),\n",
    "        '--mismatches',\n",
    "        str(mismatches),\n",
    "        '--format',\n",
    "        'csv',\n",
    "        '--mode',\n",
    "        'succinct',\n",
    "        '--kmers-file',\n",
    "        guideCSV,\n",
    "        '--output',\n",
    "        tempOutput,\n",
    "        guideIndex\n",
    "    ]\n",
    "\n",
    "    subprocess.run(cmd, check=True)\n",
    "\n",
    "    # read the csv file\n",
    "    gscanDF = pd.read_csv(tempOutput)\n",
    "\n",
    "    # drop duplicate rows and keep the first occurrence\n",
    "    gscanDF = gscanDF.drop_duplicates(subset='id', keep='first')\n",
    "\n",
    "    # write the result to a new csv file\n",
    "    return gscanDF"
   ]
  },
  {
   "cell_type": "code",
   "execution_count": 3,
   "id": "c888974a-8a98-4ceb-a4fe-b717e3c6fee5",
   "metadata": {
    "tags": []
   },
   "outputs": [],
   "source": [
    "def cleavageScoring(kmers, minPercentile = 0.40, tracr = 'Hsu2013', threads = 2):\n",
    "#start_time = time.time()\n",
    "    kmerDF = pd.read_csv(kmers, delimiter='\\t', \\\n",
    "                         header=0 )\n",
    "    # guideScores = predict_seq(sgRNAlist, sequence_tracr='Hsu2013', n_jobs=12)\n",
    "\n",
    "    sgRNAlist = kmerDF['context'].tolist() # 1709 seconds chr21, 12 cores \n",
    "    # test\n",
    "    #kmerDF = kmerDF.head(10005)\n",
    "\n",
    "    # process the list in chunks to reduce memory footprint\n",
    "    chunk_size = 100000\n",
    "\n",
    "    sgRNAScores = []\n",
    "\n",
    "    # Iterate over big_list in chunks of size chunk_size\n",
    "    for i in range(0, len(sgRNAlist), chunk_size):\n",
    "        sublist = sgRNAlist[i:i + chunk_size]\n",
    "        processed_sublist = predict_seq(sublist, sequence_tracr=tracr, n_jobs=threads)\n",
    "        sgRNAScores.extend(processed_sublist)\n",
    "\n",
    "    kmerDF['rs3_z_score'] = sgRNAScores\n",
    "    kmerDF['rs3_percentile'] = norm.cdf(kmerDF['rs3_z_score'])\n",
    "    kmerDF['rs3_score_norm'] = (kmerDF['rs3_z_score'] - kmerDF['rs3_z_score'].min()) / (kmerDF['rs3_z_score'].max() - kmerDF['rs3_z_score'].min())\n",
    "    #kmerDF = kmerDF[kmerDF['rs3_percentile'] > minPercentile]\n",
    "\n",
    "    kmerDF['id'] = kmerDF['id,sequence,pam,chromosome,position,sense'].str.split(',').str[0]\n",
    "\n",
    "    return kmerDF\n",
    "\n",
    "\n",
    "#    end_time = time.time()"
   ]
  },
  {
   "cell_type": "code",
   "execution_count": null,
   "id": "0b594321-c484-43cc-bc6a-d8ede6dd4869",
   "metadata": {},
   "outputs": [],
   "source": [
    "def plotScores()"
   ]
  },
  {
   "cell_type": "code",
   "execution_count": 36,
   "id": "3db39a42-17ae-4311-814c-13cfe7e3564c",
   "metadata": {},
   "outputs": [
    {
     "name": "stdout",
     "output_type": "stream",
     "text": [
      "/home/eric/Projects/CrisprLibrary/crispomics\n"
     ]
    }
   ],
   "source": [
    "!pwd"
   ]
  },
  {
   "cell_type": "code",
   "execution_count": 7,
   "id": "6235aaa3-7c2b-4b50-ac08-1665324d13df",
   "metadata": {},
   "outputs": [
    {
     "name": "stdout",
     "output_type": "stream",
     "text": [
      "Calculating sequence-based features\n"
     ]
    },
    {
     "name": "stderr",
     "output_type": "stream",
     "text": [
      "100%|██████████████████████████████████████████| 89/89 [00:00<00:00, 156.96it/s]\n"
     ]
    },
    {
     "name": "stdout",
     "output_type": "stream",
     "text": [
      "[2023-08-01 12:38:31.782] [guidescan2] [info] Loading genome index at \"../chr21Index/chr21.fa.index\".\n",
      "[2023-08-01 12:38:31.862] [guidescan2] [info] Successfully loaded genome index.\n",
      "[2023-08-01 12:38:31.862] [guidescan2] [info] Loading kmers.\n",
      "[2023-08-01 12:38:31.863] [guidescan2] [info] Read in 89 kmer(s).\n",
      "[2023-08-01 12:38:33.778] [guidescan2] [info] Processed 89 kmers in 1 seconds.\n"
     ]
    }
   ],
   "source": [
    "rs3Weight, gscanWeight = 0.67 , 0.33\n",
    "kmersPerTscript = 10\n",
    "minSpecificity = 0.5\n",
    "minRS3 = 0.5\n",
    "\n",
    "kmerDF = cleavageScoring(kmers = './tmp/loc_filtered_guides.tsv', minPercentile = 0.00)\n",
    "\n",
    "gscanTMPFile = './tmp/scored_guides_for_guidescan.csv'\n",
    "\n",
    "kmerDF[['id,sequence,pam,chromosome,position,sense']].to_csv(gscanTMPFile, sep='\\t', index=False)\n",
    "gscanDF = guideScanScoring(guideCSV = gscanTMPFile, guideIndex = '../chr21Index/chr21.fa.index', threads = 2, mismatches = 4)\n",
    "\n",
    "kmerDF = kmerDF.merge(gscanDF[['id', 'specificity']], on='id', )\n",
    "\n",
    "kmerDF['combined_score'] = rs3Weight * kmerDF['rs3_score_norm'] + gscanWeight * kmerDF['specificity'] \n",
    "\n",
    "kmerDF.sort_values(by='combined_score', inplace=True, ascending=False)\n",
    "\n",
    "reducedKmerDF = kmerDF.assign(tscripts=kmerDF['tscripts'].str.split(',')).explode('tscripts')\n",
    "\n",
    "# Step 2: Sort by \"combined_score\" within each transcript\n",
    "reducedKmerDF.sort_values(['tscripts', 'combined_score'], ascending=[True, False], inplace=True)\n",
    "\n",
    "# Step 3: Keep only the top 10 entries per transcript\n",
    "reducedKmerDF = reducedKmerDF.groupby('tscripts').head(kmersPerTscript)\n",
    "\n",
    "cols = reducedKmerDF.columns.tolist()  # get a list of all columns\n",
    "cols.remove('tscripts')  # remove 'tscripts' from this list\n",
    "\n",
    "finalKmerDF = reducedKmerDF.groupby(cols, as_index=False)['tscripts'].apply(','.join).reset_index()"
   ]
  },
  {
   "cell_type": "code",
   "execution_count": 13,
   "id": "c3c0b03f-da0c-407f-a7c5-f4d1fdf88d0e",
   "metadata": {},
   "outputs": [
    {
     "data": {
      "text/plain": [
       "<Axes: ylabel='Frequency'>"
      ]
     },
     "execution_count": 13,
     "metadata": {},
     "output_type": "execute_result"
    },
    {
     "data": {
      "image/png": "[encoded data removed]",
      "text/plain": [
       "<Figure size 640x480 with 1 Axes>"
      ]
     },
     "metadata": {},
     "output_type": "display_data"
    }
   ],
   "source": [
    "kmerDF['specificity'].plot.hist()\n"
   ]
  },
  {
   "cell_type": "code",
   "execution_count": 22,
   "id": "ef72d94a-aac0-452a-9ea6-24e03adc82de",
   "metadata": {},
   "outputs": [
    {
     "data": {
      "text/plain": [
       "<Axes: ylabel='Frequency'>"
      ]
     },
     "execution_count": 22,
     "metadata": {},
     "output_type": "execute_result"
    },
    {
     "data": {
      "image/png": "[encoded data removed]",
      "text/plain": [
       "<Figure size 640x480 with 1 Axes>"
      ]
     },
     "metadata": {},
     "output_type": "display_data"
    }
   ],
   "source": [
    "kmerDF['rs3_score_norm'].plot.hist()\n"
   ]
  },
  {
   "cell_type": "code",
   "execution_count": 35,
   "id": "25fd1825-d870-40ff-bae6-86299dc0ac8c",
   "metadata": {},
   "outputs": [
    {
     "name": "stdout",
     "output_type": "stream",
     "text": [
      "Number of guides beyond cutoff: 13\n"
     ]
    },
    {
     "data": {
      "image/png": "[encoded data removed]",
      "text/plain": [
       "<Figure size 640x480 with 1 Axes>"
      ]
     },
     "metadata": {},
     "output_type": "display_data"
    }
   ],
   "source": [
    "minSpecificity = 0.75\n",
    "minCleavage = 0.75\n",
    "\n",
    "# Create a new column \"color\" based on condition\n",
    "conditions = [\n",
    "    (kmerDF['rs3_score_norm'] >= minCleavage) & (kmerDF['specificity'] >= minSpecificity),\n",
    "    (kmerDF['rs3_score_norm'] < minCleavage) | (kmerDF['specificity'] < minSpecificity),\n",
    "]\n",
    "\n",
    "choices = ['green', 'red']\n",
    "\n",
    "kmerDF['color'] = np.select(conditions, choices, default='black')\n",
    "\n",
    "# Plot with colors\n",
    "ax = kmerDF.plot.scatter(x='rs3_score_norm', y='specificity', c=kmerDF['color'], label='Below Cutoff')\n",
    "\n",
    "# Adding scatter plot for above cutoff points with different color and label\n",
    "aboveCutoff = kmerDF[kmerDF['color'] == 'green']\n",
    "ax.scatter(above_cutoff['rs3_score_norm'], aboveCutoff['specificity'], color='green', label='Guides Beyond Cutoff')\n",
    "\n",
    "# Add horizontal line at y-position minSpecificity\n",
    "ax.axhline(minSpecificity, color='red')\n",
    "\n",
    "# Add vertical line at x-position minCleavage\n",
    "ax.axvline(minCleavage, color='red')\n",
    "\n",
    "# Set x and y axes limits\n",
    "ax.set_xlim([-0.05, 1.05])\n",
    "ax.set_ylim([-0.05, 1.05])\n",
    "\n",
    "# Show legend\n",
    "plt.legend()\n",
    "\n",
    "# Show the number of guides beyond cutoff\n",
    "availableGuides = len(aboveCutoff)\n",
    "print(f\"Number of guides beyond cutoff: {availableGuides}\")\n",
    "\n",
    "plt.show()"
   ]
  }
 ],
 "metadata": {
  "kernelspec": {
   "display_name": "Python 3 (ipykernel)",
   "language": "python",
   "name": "python3"
  },
  "language_info": {
   "codemirror_mode": {
    "name": "ipython",
    "version": 3
   },
   "file_extension": ".py",
   "mimetype": "text/x-python",
   "name": "python",
   "nbconvert_exporter": "python",
   "pygments_lexer": "ipython3",
   "version": "3.10.11"
  }
 },
 "nbformat": 4,
 "nbformat_minor": 5
}
