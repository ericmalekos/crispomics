{
 "cells": [
  {
   "cell_type": "code",
   "execution_count": 42,
   "id": "a2abed1d-efca-4bb2-a5d9-2a476e7cca4b",
   "metadata": {},
   "outputs": [],
   "source": [
    "import pandas as pd\n",
    "import subprocess\n",
    "import os\n",
    "from rs3.seq import predict_seq\n",
    "import time\n",
    "from scipy.stats import norm\n",
    "\n"
   ]
  },
  {
   "cell_type": "code",
   "execution_count": null,
   "id": "d446519f-af04-4631-9d96-a08e53f99cfd",
   "metadata": {},
   "outputs": [],
   "source": [
    "class Args:\n",
    "    threads = \"6\"\n",
    "    mismatches = \"5\"\n",
    "    #altpams = NAG\n",
    "    kmers = \"./\"\n",
    "    ouput= \"\"\n",
    "    "
   ]
  },
  {
   "cell_type": "code",
   "execution_count": null,
   "id": "c916f023-9eec-4ac9-807b-3f4bf0a69603",
   "metadata": {},
   "outputs": [],
   "source": [
    "os.chdir(\"./crispomics/\")"
   ]
  },
  {
   "cell_type": "code",
   "execution_count": 2,
   "id": "9d0aba47-4d49-4e58-862f-bb1c4483afe9",
   "metadata": {},
   "outputs": [
    {
     "name": "stdout",
     "output_type": "stream",
     "text": [
      "filtered_file.csv\t   launch.json\t\tSPI1.gff3.db\n",
      "FilterKmerBED\t\t   out.bed\t\tstdout\n",
      "finalKmers.bed\t\t   out.gff3\t\ttest\n",
      "GenerateKmerBED\t\t   output.gff3\t\ttmp\n",
      "gscan.csv\t\t   ProcessAnnotation\ttrimmedAnnotation.gff\n",
      "guideScanOut_complete.csv  README.md\t\ttrimmed.gtf\n",
      "guideScanOut.csv\t   ScoringGuides.ipynb\n",
      "kmers.bed\t\t   SPI1.gff3\n"
     ]
    }
   ],
   "source": [
    "!ls"
   ]
  },
  {
   "cell_type": "code",
   "execution_count": 2,
   "id": "5cbfb6d7-d2a1-4dda-8a57-9e93dc246a63",
   "metadata": {},
   "outputs": [],
   "source": [
    "def guideScanScoring(guideCSV, guideIndex, threads = 2, mismatches = 4):\n",
    "    tempOutput = './tmp/guideScanOut.csv'\n",
    "    cmd = [\n",
    "        'guidescan',\n",
    "        'enumerate',\n",
    "        '--max-off-targets',\n",
    "        '-1',\n",
    "        '--threads',\n",
    "        str(threads),\n",
    "        '--mismatches',\n",
    "        str(mismatches),\n",
    "        '--format',\n",
    "        'csv',\n",
    "        '--mode',\n",
    "        'succinct',\n",
    "        '--kmers-file',\n",
    "        guideCSV,\n",
    "        '--output',\n",
    "        tempOutput,\n",
    "        guideIndex\n",
    "    ]\n",
    "\n",
    "    subprocess.run(cmd, check=True)\n",
    "\n",
    "    # read the csv file\n",
    "    gscanDF = pd.read_csv(tempOutput)\n",
    "\n",
    "    # drop duplicate rows and keep the first occurrence\n",
    "    gscanDF = gscanDF.drop_duplicates(subset='id', keep='first')\n",
    "\n",
    "    # write the result to a new csv file\n",
    "    return gscanDF"
   ]
  },
  {
   "cell_type": "code",
   "execution_count": 3,
   "id": "c888974a-8a98-4ceb-a4fe-b717e3c6fee5",
   "metadata": {
    "tags": []
   },
   "outputs": [],
   "source": [
    "def cleavageScoring(kmers, minPercentile = 0.40, tracr = 'Hsu2013', threads = 2):\n",
    "#start_time = time.time()\n",
    "    kmerDF = pd.read_csv(kmers, delimiter='\\t', \\\n",
    "                         header=0 )\n",
    "    # guideScores = predict_seq(sgRNAlist, sequence_tracr='Hsu2013', n_jobs=12)\n",
    "\n",
    "    sgRNAlist = kmerDF['context'].tolist() # 1709 seconds chr21, 12 cores \n",
    "    # test\n",
    "    #kmerDF = kmerDF.head(10005)\n",
    "\n",
    "    # process the list in chunks to reduce memory footprint\n",
    "    chunk_size = 100000\n",
    "\n",
    "    sgRNAScores = []\n",
    "\n",
    "    # Iterate over big_list in chunks of size chunk_size\n",
    "    for i in range(0, len(sgRNAlist), chunk_size):\n",
    "        sublist = sgRNAlist[i:i + chunk_size]\n",
    "        processed_sublist = predict_seq(sublist, sequence_tracr=tracr, n_jobs=threads)\n",
    "        sgRNAScores.extend(processed_sublist)\n",
    "\n",
    "    kmerDF['rs3_z_score'] = sgRNAScores\n",
    "    kmerDF['rs3_percentile'] = norm.cdf(kmerDF['rs3_z_score'])\n",
    "    kmerDF['rs3_score_norm'] = (kmerDF['rs3_z_score'] - kmerDF['rs3_z_score'].min()) / (kmerDF['rs3_z_score'].max() - kmerDF['rs3_z_score'].min())\n",
    "    #kmerDF = kmerDF[kmerDF['rs3_percentile'] > minPercentile]\n",
    "\n",
    "    kmerDF['id'] = kmerDF['id,sequence,pam,chromosome,position,sense'].str.split(',').str[0]\n",
    "\n",
    "    return kmerDF\n",
    "\n",
    "\n",
    "#    end_time = time.time()"
   ]
  },
  {
   "cell_type": "code",
   "execution_count": null,
   "id": "0b594321-c484-43cc-bc6a-d8ede6dd4869",
   "metadata": {},
   "outputs": [],
   "source": [
    "def plotScores()"
   ]
  },
  {
   "cell_type": "code",
   "execution_count": 36,
   "id": "3db39a42-17ae-4311-814c-13cfe7e3564c",
   "metadata": {},
   "outputs": [
    {
     "name": "stdout",
     "output_type": "stream",
     "text": [
      "/home/eric/Projects/CrisprLibrary/crispomics\n"
     ]
    }
   ],
   "source": [
    "!pwd"
   ]
  },
  {
   "cell_type": "code",
   "execution_count": 53,
   "id": "6235aaa3-7c2b-4b50-ac08-1665324d13df",
   "metadata": {},
   "outputs": [
    {
     "name": "stdout",
     "output_type": "stream",
     "text": [
      "Calculating sequence-based features\n"
     ]
    },
    {
     "name": "stderr",
     "output_type": "stream",
     "text": [
      "100%|██████████████████████████████████████████| 89/89 [00:00<00:00, 155.83it/s]\n"
     ]
    },
    {
     "name": "stdout",
     "output_type": "stream",
     "text": [
      "[2023-08-01 16:08:17.414] [guidescan2] [info] Loading genome index at \"../chr21Index/chr21.fa.index\".\n",
      "[2023-08-01 16:08:17.496] [guidescan2] [info] Successfully loaded genome index.\n",
      "[2023-08-01 16:08:17.496] [guidescan2] [info] Loading kmers.\n",
      "[2023-08-01 16:08:17.497] [guidescan2] [info] Read in 89 kmer(s).\n",
      "[2023-08-01 16:08:19.346] [guidescan2] [info] Processed 89 kmers in 1 seconds.\n"
     ]
    },
    {
     "data": {
      "text/plain": [
       "'\\nreducedKmerDF = kmerDF.assign(tscripts=kmerDF[\\'tscripts\\'].str.split(\\',\\')).explode(\\'tscripts\\')\\n\\n# Step 2: Sort by \"combined_score\" within each transcript\\nreducedKmerDF.sort_values([\\'tscripts\\', \\'combined_score\\'], ascending=[True, False], inplace=True)\\n\\n# Step 3: Keep only the top 10 entries per transcript\\nreducedKmerDF = reducedKmerDF.groupby(\\'tscripts\\').head(kmersPerTscript)\\n\\ncols = reducedKmerDF.columns.tolist()  # get a list of all columns\\ncols.remove(\\'tscripts\\')  # remove \\'tscripts\\' from this list\\n\\nfinalKmerDF = reducedKmerDF.groupby(cols, as_index=False)[\\'tscripts\\'].apply(\\',\\'.join).reset_index()\\n'"
      ]
     },
     "execution_count": 53,
     "metadata": {},
     "output_type": "execute_result"
    }
   ],
   "source": [
    "rs3Weight, gscanWeight = 0.67 , 0.33\n",
    "kmersPerTscript = 10\n",
    "minSpecificity = 0.5\n",
    "minRS3 = 0.5\n",
    "\n",
    "kmerDF = cleavageScoring(kmers = './tmp/loc_filtered_guides.tsv', minPercentile = 0.00)\n",
    "\n",
    "gscanTMPFile = './tmp/scored_guides_for_guidescan.csv'\n",
    "\n",
    "kmerDF[['id,sequence,pam,chromosome,position,sense']].to_csv(gscanTMPFile, sep='\\t', index=False)\n",
    "gscanDF = guideScanScoring(guideCSV = gscanTMPFile, guideIndex = '../chr21Index/chr21.fa.index', threads = 2, mismatches = 4)\n",
    "\n",
    "kmerDF = kmerDF.merge(gscanDF[['id', 'specificity']], on='id', )\n",
    "\n",
    "kmerDF['combined_score'] = rs3Weight * kmerDF['rs3_score_norm'] + gscanWeight * kmerDF['specificity'] \n",
    "\n",
    "kmerDF.sort_values(by='combined_score', inplace=True, ascending=False)\n",
    "\n",
    "'''\n",
    "reducedKmerDF = kmerDF.assign(tscripts=kmerDF['tscripts'].str.split(',')).explode('tscripts')\n",
    "\n",
    "# Step 2: Sort by \"combined_score\" within each transcript\n",
    "reducedKmerDF.sort_values(['tscripts', 'combined_score'], ascending=[True, False], inplace=True)\n",
    "\n",
    "# Step 3: Keep only the top 10 entries per transcript\n",
    "reducedKmerDF = reducedKmerDF.groupby('tscripts').head(kmersPerTscript)\n",
    "\n",
    "cols = reducedKmerDF.columns.tolist()  # get a list of all columns\n",
    "cols.remove('tscripts')  # remove 'tscripts' from this list\n",
    "\n",
    "finalKmerDF = reducedKmerDF.groupby(cols, as_index=False)['tscripts'].apply(','.join).reset_index()\n",
    "'''"
   ]
  },
  {
   "cell_type": "code",
   "execution_count": 13,
   "id": "c3c0b03f-da0c-407f-a7c5-f4d1fdf88d0e",
   "metadata": {},
   "outputs": [
    {
     "data": {
      "text/plain": [
       "<Axes: ylabel='Frequency'>"
      ]
     },
     "execution_count": 13,
     "metadata": {},
     "output_type": "execute_result"
    },
    {
     "data": {
      "image/png": "[encoded data removed]",
      "text/plain": [
       "<Figure size 640x480 with 1 Axes>"
      ]
     },
     "metadata": {},
     "output_type": "display_data"
    }
   ],
   "source": [
    "kmerDF['specificity'].plot.hist()\n"
   ]
  },
  {
   "cell_type": "code",
   "execution_count": 22,
   "id": "ef72d94a-aac0-452a-9ea6-24e03adc82de",
   "metadata": {},
   "outputs": [
    {
     "data": {
      "text/plain": [
       "<Axes: ylabel='Frequency'>"
      ]
     },
     "execution_count": 22,
     "metadata": {},
     "output_type": "execute_result"
    },
    {
     "data": {
      "image/png": "[encoded data removed]",
      "text/plain": [
       "<Figure size 640x480 with 1 Axes>"
      ]
     },
     "metadata": {},
     "output_type": "display_data"
    }
   ],
   "source": [
    "kmerDF['rs3_score_norm'].plot.hist()\n"
   ]
  },
  {
   "cell_type": "code",
   "execution_count": 54,
   "id": "6a5b5684-2bb6-4b35-9c46-51cac9442458",
   "metadata": {},
   "outputs": [
    {
     "data": {
      "text/html": [
       "<div>\n",
       "<style scoped>\n",
       "    .dataframe tbody tr th:only-of-type {\n",
       "        vertical-align: middle;\n",
       "    }\n",
       "\n",
       "    .dataframe tbody tr th {\n",
       "        vertical-align: top;\n",
       "    }\n",
       "\n",
       "    .dataframe thead th {\n",
       "        text-align: right;\n",
       "    }\n",
       "</style>\n",
       "<table border=\"1\" class=\"dataframe\">\n",
       "  <thead>\n",
       "    <tr style=\"text-align: right;\">\n",
       "      <th></th>\n",
       "      <th>chr</th>\n",
       "      <th>start</th>\n",
       "      <th>stop</th>\n",
       "      <th>id,sequence,pam,chromosome,position,sense</th>\n",
       "      <th>context</th>\n",
       "      <th>strand</th>\n",
       "      <th>tscripts</th>\n",
       "      <th>id</th>\n",
       "      <th>rs3_z_score</th>\n",
       "      <th>rs3_percentile</th>\n",
       "      <th>rs3_score_norm</th>\n",
       "      <th>specificity</th>\n",
       "      <th>combined_score</th>\n",
       "    </tr>\n",
       "  </thead>\n",
       "  <tbody>\n",
       "    <tr>\n",
       "      <th>65</th>\n",
       "      <td>chr21</td>\n",
       "      <td>21338521</td>\n",
       "      <td>21338522</td>\n",
       "      <td>chr21:21338505:+,GATGGCTTCACGTTCACTGA,NGG,chr2...</td>\n",
       "      <td>CTGTGGATGGCTTCACGTTCACTGAAGGCG</td>\n",
       "      <td>+</td>\n",
       "      <td>ENST00000400546.6,ENST00000284894.8</td>\n",
       "      <td>chr21:21338505:+</td>\n",
       "      <td>1.142982</td>\n",
       "      <td>0.873477</td>\n",
       "      <td>1.000000</td>\n",
       "      <td>1.000000</td>\n",
       "      <td>1.000000</td>\n",
       "    </tr>\n",
       "    <tr>\n",
       "      <th>68</th>\n",
       "      <td>chr21</td>\n",
       "      <td>21373867</td>\n",
       "      <td>21373868</td>\n",
       "      <td>chr21:21373851:+,CGATGTAAACAGAGCCTGGA,NGG,chr2...</td>\n",
       "      <td>TGAATCGATGTAAACAGAGCCTGGACGGCC</td>\n",
       "      <td>+</td>\n",
       "      <td>ENST00000400546.6,ENST00000284894.8</td>\n",
       "      <td>chr21:21373851:+</td>\n",
       "      <td>0.849544</td>\n",
       "      <td>0.802211</td>\n",
       "      <td>0.916182</td>\n",
       "      <td>1.000000</td>\n",
       "      <td>0.943842</td>\n",
       "    </tr>\n",
       "    <tr>\n",
       "      <th>8</th>\n",
       "      <td>chr21</td>\n",
       "      <td>20998593</td>\n",
       "      <td>20998594</td>\n",
       "      <td>chr21:20998587:-,TACTGACAAGCAACCCCAGC,NGG,chr2...</td>\n",
       "      <td>CCCGCTACTGACAAGCAACCCCAGCAGGTA</td>\n",
       "      <td>-</td>\n",
       "      <td>ENST00000400546.6</td>\n",
       "      <td>chr21:20998587:-</td>\n",
       "      <td>0.752817</td>\n",
       "      <td>0.774220</td>\n",
       "      <td>0.888553</td>\n",
       "      <td>1.000000</td>\n",
       "      <td>0.925331</td>\n",
       "    </tr>\n",
       "    <tr>\n",
       "      <th>58</th>\n",
       "      <td>chr21</td>\n",
       "      <td>21338462</td>\n",
       "      <td>21338463</td>\n",
       "      <td>chr21:21338446:+,CACTCGTATGTGATGCGGAA,NGG,chr2...</td>\n",
       "      <td>AGTCACACTCGTATGTGATGCGGAAGGGGA</td>\n",
       "      <td>+</td>\n",
       "      <td>ENST00000400546.6,ENST00000284894.8</td>\n",
       "      <td>chr21:21338446:+</td>\n",
       "      <td>0.731061</td>\n",
       "      <td>0.767629</td>\n",
       "      <td>0.882338</td>\n",
       "      <td>1.000000</td>\n",
       "      <td>0.921167</td>\n",
       "    </tr>\n",
       "    <tr>\n",
       "      <th>70</th>\n",
       "      <td>chr21</td>\n",
       "      <td>21373885</td>\n",
       "      <td>21373886</td>\n",
       "      <td>chr21:21373869:+,GACGGCCGTATCGAAGTCAA,NGG,chr2...</td>\n",
       "      <td>GCCTGGACGGCCGTATCGAAGTCAAAGGGC</td>\n",
       "      <td>+</td>\n",
       "      <td>ENST00000400546.6,ENST00000284894.8</td>\n",
       "      <td>chr21:21373869:+</td>\n",
       "      <td>0.456342</td>\n",
       "      <td>0.675928</td>\n",
       "      <td>0.803868</td>\n",
       "      <td>1.000000</td>\n",
       "      <td>0.868591</td>\n",
       "    </tr>\n",
       "    <tr>\n",
       "      <th>...</th>\n",
       "      <td>...</td>\n",
       "      <td>...</td>\n",
       "      <td>...</td>\n",
       "      <td>...</td>\n",
       "      <td>...</td>\n",
       "      <td>...</td>\n",
       "      <td>...</td>\n",
       "      <td>...</td>\n",
       "      <td>...</td>\n",
       "      <td>...</td>\n",
       "      <td>...</td>\n",
       "      <td>...</td>\n",
       "      <td>...</td>\n",
       "    </tr>\n",
       "    <tr>\n",
       "      <th>27</th>\n",
       "      <td>chr21</td>\n",
       "      <td>21324457</td>\n",
       "      <td>21324458</td>\n",
       "      <td>chr21:21324441:+,AGAAATGACATTTTCCTGCA,NGG,chr2...</td>\n",
       "      <td>GGAGAAGAAATGACATTTTCCTGCAGGGCC</td>\n",
       "      <td>+</td>\n",
       "      <td>ENST00000400546.6,ENST00000284894.8</td>\n",
       "      <td>chr21:21324441:+</td>\n",
       "      <td>-1.648592</td>\n",
       "      <td>0.049616</td>\n",
       "      <td>0.202612</td>\n",
       "      <td>0.723053</td>\n",
       "      <td>0.374358</td>\n",
       "    </tr>\n",
       "    <tr>\n",
       "      <th>85</th>\n",
       "      <td>chr21</td>\n",
       "      <td>21410312</td>\n",
       "      <td>21410313</td>\n",
       "      <td>chr21:21410296:+,CCAAACAATTTATTACTCTT,NGG,chr2...</td>\n",
       "      <td>TCAAACCAAACAATTTATTACTCTTGGGAA</td>\n",
       "      <td>+</td>\n",
       "      <td>ENST00000400546.6,ENST00000284894.8</td>\n",
       "      <td>chr21:21410296:+</td>\n",
       "      <td>-1.951867</td>\n",
       "      <td>0.025477</td>\n",
       "      <td>0.115984</td>\n",
       "      <td>0.837609</td>\n",
       "      <td>0.354120</td>\n",
       "    </tr>\n",
       "    <tr>\n",
       "      <th>62</th>\n",
       "      <td>chr21</td>\n",
       "      <td>21338484</td>\n",
       "      <td>21338485</td>\n",
       "      <td>chr21:21338478:-,GCTCTTTTCCAAGTGATTTC,NGG,chr2...</td>\n",
       "      <td>CCACAGCTCTTTTCCAAGTGATTTCTGGAA</td>\n",
       "      <td>-</td>\n",
       "      <td>ENST00000400546.6,ENST00000284894.8</td>\n",
       "      <td>chr21:21338478:-</td>\n",
       "      <td>-2.357916</td>\n",
       "      <td>0.009189</td>\n",
       "      <td>0.000000</td>\n",
       "      <td>0.959700</td>\n",
       "      <td>0.316701</td>\n",
       "    </tr>\n",
       "    <tr>\n",
       "      <th>54</th>\n",
       "      <td>chr21</td>\n",
       "      <td>21338400</td>\n",
       "      <td>21338401</td>\n",
       "      <td>chr21:21338394:-,TTTTTAAGCTGTATTATGTG,NGG,chr2...</td>\n",
       "      <td>TTTCATTTTTAAGCTGTATTATGTGAGGCT</td>\n",
       "      <td>-</td>\n",
       "      <td>ENST00000400546.6,ENST00000284894.8</td>\n",
       "      <td>chr21:21338394:-</td>\n",
       "      <td>-1.864194</td>\n",
       "      <td>0.031147</td>\n",
       "      <td>0.141027</td>\n",
       "      <td>0.418275</td>\n",
       "      <td>0.232519</td>\n",
       "    </tr>\n",
       "    <tr>\n",
       "      <th>39</th>\n",
       "      <td>chr21</td>\n",
       "      <td>21335504</td>\n",
       "      <td>21335505</td>\n",
       "      <td>chr21:21335488:+,TCTTTTTTCTTCTTTAGGAA,NGG,chr2...</td>\n",
       "      <td>GAACCTCTTTTTTCTTCTTTAGGAATGGCA</td>\n",
       "      <td>+</td>\n",
       "      <td>ENST00000400546.6,ENST00000284894.8</td>\n",
       "      <td>chr21:21335488:+</td>\n",
       "      <td>-1.816682</td>\n",
       "      <td>0.034633</td>\n",
       "      <td>0.154598</td>\n",
       "      <td>0.188808</td>\n",
       "      <td>0.165888</td>\n",
       "    </tr>\n",
       "  </tbody>\n",
       "</table>\n",
       "<p>89 rows × 13 columns</p>\n",
       "</div>"
      ],
      "text/plain": [
       "      chr     start      stop  \\\n",
       "65  chr21  21338521  21338522   \n",
       "68  chr21  21373867  21373868   \n",
       "8   chr21  20998593  20998594   \n",
       "58  chr21  21338462  21338463   \n",
       "70  chr21  21373885  21373886   \n",
       "..    ...       ...       ...   \n",
       "27  chr21  21324457  21324458   \n",
       "85  chr21  21410312  21410313   \n",
       "62  chr21  21338484  21338485   \n",
       "54  chr21  21338400  21338401   \n",
       "39  chr21  21335504  21335505   \n",
       "\n",
       "            id,sequence,pam,chromosome,position,sense  \\\n",
       "65  chr21:21338505:+,GATGGCTTCACGTTCACTGA,NGG,chr2...   \n",
       "68  chr21:21373851:+,CGATGTAAACAGAGCCTGGA,NGG,chr2...   \n",
       "8   chr21:20998587:-,TACTGACAAGCAACCCCAGC,NGG,chr2...   \n",
       "58  chr21:21338446:+,CACTCGTATGTGATGCGGAA,NGG,chr2...   \n",
       "70  chr21:21373869:+,GACGGCCGTATCGAAGTCAA,NGG,chr2...   \n",
       "..                                                ...   \n",
       "27  chr21:21324441:+,AGAAATGACATTTTCCTGCA,NGG,chr2...   \n",
       "85  chr21:21410296:+,CCAAACAATTTATTACTCTT,NGG,chr2...   \n",
       "62  chr21:21338478:-,GCTCTTTTCCAAGTGATTTC,NGG,chr2...   \n",
       "54  chr21:21338394:-,TTTTTAAGCTGTATTATGTG,NGG,chr2...   \n",
       "39  chr21:21335488:+,TCTTTTTTCTTCTTTAGGAA,NGG,chr2...   \n",
       "\n",
       "                           context strand  \\\n",
       "65  CTGTGGATGGCTTCACGTTCACTGAAGGCG      +   \n",
       "68  TGAATCGATGTAAACAGAGCCTGGACGGCC      +   \n",
       "8   CCCGCTACTGACAAGCAACCCCAGCAGGTA      -   \n",
       "58  AGTCACACTCGTATGTGATGCGGAAGGGGA      +   \n",
       "70  GCCTGGACGGCCGTATCGAAGTCAAAGGGC      +   \n",
       "..                             ...    ...   \n",
       "27  GGAGAAGAAATGACATTTTCCTGCAGGGCC      +   \n",
       "85  TCAAACCAAACAATTTATTACTCTTGGGAA      +   \n",
       "62  CCACAGCTCTTTTCCAAGTGATTTCTGGAA      -   \n",
       "54  TTTCATTTTTAAGCTGTATTATGTGAGGCT      -   \n",
       "39  GAACCTCTTTTTTCTTCTTTAGGAATGGCA      +   \n",
       "\n",
       "                               tscripts                id  rs3_z_score  \\\n",
       "65  ENST00000400546.6,ENST00000284894.8  chr21:21338505:+     1.142982   \n",
       "68  ENST00000400546.6,ENST00000284894.8  chr21:21373851:+     0.849544   \n",
       "8                     ENST00000400546.6  chr21:20998587:-     0.752817   \n",
       "58  ENST00000400546.6,ENST00000284894.8  chr21:21338446:+     0.731061   \n",
       "70  ENST00000400546.6,ENST00000284894.8  chr21:21373869:+     0.456342   \n",
       "..                                  ...               ...          ...   \n",
       "27  ENST00000400546.6,ENST00000284894.8  chr21:21324441:+    -1.648592   \n",
       "85  ENST00000400546.6,ENST00000284894.8  chr21:21410296:+    -1.951867   \n",
       "62  ENST00000400546.6,ENST00000284894.8  chr21:21338478:-    -2.357916   \n",
       "54  ENST00000400546.6,ENST00000284894.8  chr21:21338394:-    -1.864194   \n",
       "39  ENST00000400546.6,ENST00000284894.8  chr21:21335488:+    -1.816682   \n",
       "\n",
       "    rs3_percentile  rs3_score_norm  specificity  combined_score  \n",
       "65        0.873477        1.000000     1.000000        1.000000  \n",
       "68        0.802211        0.916182     1.000000        0.943842  \n",
       "8         0.774220        0.888553     1.000000        0.925331  \n",
       "58        0.767629        0.882338     1.000000        0.921167  \n",
       "70        0.675928        0.803868     1.000000        0.868591  \n",
       "..             ...             ...          ...             ...  \n",
       "27        0.049616        0.202612     0.723053        0.374358  \n",
       "85        0.025477        0.115984     0.837609        0.354120  \n",
       "62        0.009189        0.000000     0.959700        0.316701  \n",
       "54        0.031147        0.141027     0.418275        0.232519  \n",
       "39        0.034633        0.154598     0.188808        0.165888  \n",
       "\n",
       "[89 rows x 13 columns]"
      ]
     },
     "execution_count": 54,
     "metadata": {},
     "output_type": "execute_result"
    }
   ],
   "source": [
    "kmerDF"
   ]
  }
 ],
 "metadata": {
  "kernelspec": {
   "display_name": "Python 3 (ipykernel)",
   "language": "python",
   "name": "python3"
  },
  "language_info": {
   "codemirror_mode": {
    "name": "ipython",
    "version": 3
   },
   "file_extension": ".py",
   "mimetype": "text/x-python",
   "name": "python",
   "nbconvert_exporter": "python",
   "pygments_lexer": "ipython3",
   "version": "3.10.11"
  }
 },
 "nbformat": 4,
 "nbformat_minor": 5
}
