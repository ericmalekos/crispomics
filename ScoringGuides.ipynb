{
 "cells": [
  {
   "cell_type": "code",
   "execution_count": 3,
   "id": "a2abed1d-efca-4bb2-a5d9-2a476e7cca4b",
   "metadata": {},
   "outputs": [],
   "source": [
    "import pandas as pd\n",
    "import subprocess\n",
    "import os\n",
    "from rs3.seq import predict_seq\n",
    "import time\n",
    "from scipy.stats import norm\n",
    "from pathlib import Path\n"
   ]
  },
  {
   "cell_type": "code",
   "execution_count": null,
   "id": "d446519f-af04-4631-9d96-a08e53f99cfd",
   "metadata": {},
   "outputs": [],
   "source": [
    "class Args:\n",
    "    threads = \"6\"\n",
    "    mismatches = \"5\"\n",
    "    #altpams = NAG\n",
    "    kmers = \"./\"\n",
    "    ouput= \"\"\n",
    "    "
   ]
  },
  {
   "cell_type": "code",
   "execution_count": null,
   "id": "c916f023-9eec-4ac9-807b-3f4bf0a69603",
   "metadata": {},
   "outputs": [],
   "source": [
    "os.chdir(\"./crispomics/\")"
   ]
  },
  {
   "cell_type": "code",
   "execution_count": 2,
   "id": "9d0aba47-4d49-4e58-862f-bb1c4483afe9",
   "metadata": {},
   "outputs": [
    {
     "name": "stdout",
     "output_type": "stream",
     "text": [
      "filtered_file.csv\t   launch.json\t\tSPI1.gff3.db\n",
      "FilterKmerBED\t\t   out.bed\t\tstdout\n",
      "finalKmers.bed\t\t   out.gff3\t\ttest\n",
      "GenerateKmerBED\t\t   output.gff3\t\ttmp\n",
      "gscan.csv\t\t   ProcessAnnotation\ttrimmedAnnotation.gff\n",
      "guideScanOut_complete.csv  README.md\t\ttrimmed.gtf\n",
      "guideScanOut.csv\t   ScoringGuides.ipynb\n",
      "kmers.bed\t\t   SPI1.gff3\n"
     ]
    }
   ],
   "source": [
    "!ls"
   ]
  },
  {
   "cell_type": "code",
   "execution_count": 83,
   "id": "5cbfb6d7-d2a1-4dda-8a57-9e93dc246a63",
   "metadata": {},
   "outputs": [],
   "source": [
    "def guideScanScoring(guideCSV, guideIndex, threads = 2, mismatches = 4):\n",
    "    tempOutput = './tmp/guideScanOut.csv'\n",
    "    cmd = [\n",
    "        'guidescan',\n",
    "        'enumerate',\n",
    "        '--max-off-targets',\n",
    "        '-1',\n",
    "        '--threads',\n",
    "        str(threads),\n",
    "        '--mismatches',\n",
    "        str(mismatches),\n",
    "        '--format',\n",
    "        'csv',\n",
    "        '--mode',\n",
    "        'succinct',\n",
    "        '--kmers-file',\n",
    "        guideCSV,\n",
    "        '--output',\n",
    "        tempOutput,\n",
    "        guideIndex\n",
    "    ]\n",
    "\n",
    "    subprocess.run(cmd, check=True)\n",
    "\n",
    "    # read the csv file\n",
    "    gscanDF = pd.read_csv(tempOutput)\n",
    "\n",
    "    # drop duplicate rows and keep the first occurrence\n",
    "    gscanDF = gscanDF.drop_duplicates(subset='id', keep='first')\n",
    "\n",
    "    gscanDF['specificity'] = gscanDF['specificity'].round(3)\n",
    "\n",
    "    return gscanDF"
   ]
  },
  {
   "cell_type": "code",
   "execution_count": 93,
   "id": "c888974a-8a98-4ceb-a4fe-b717e3c6fee5",
   "metadata": {
    "tags": []
   },
   "outputs": [],
   "source": [
    "def cleavageScoring(kmers, tracr = 'Hsu2013', threads = 2):\n",
    "#start_time = time.time()\n",
    "    kmerDF = pd.read_csv(kmers, delimiter='\\t', \\\n",
    "                         header=0 )\n",
    "    # guideScores = predict_seq(sgRNAlist, sequence_tracr='Hsu2013', n_jobs=12)\n",
    "\n",
    "    sgRNAlist = kmerDF['context'].tolist() # 1709 seconds chr21, 12 cores \n",
    "\n",
    "    # process the list in chunks to reduce memory footprint\n",
    "    chunk_size = 100000\n",
    "\n",
    "    sgRNAScores = []\n",
    "\n",
    "    # Iterate over big_list in chunks of size chunk_size\n",
    "    for i in range(0, len(sgRNAlist), chunk_size):\n",
    "        sublist = sgRNAlist[i:i + chunk_size]\n",
    "        processed_sublist = predict_seq(sublist, sequence_tracr=tracr, n_jobs=threads)\n",
    "        sgRNAScores.extend(processed_sublist)\n",
    "\n",
    "    kmerDF['rs3_z_score'] = sgRNAScores\n",
    "    kmerDF['rs3_z_score'] = kmerDF['rs3_z_score'].round(3)\n",
    "    kmerDF['rs3_percentile'] = norm.cdf(kmerDF['rs3_z_score'])\n",
    "    kmerDF['rs3_percentile'] = kmerDF['rs3_percentile'].round(3)\n",
    "\n",
    "    kmerDF['rs3_score_norm'] = (kmerDF['rs3_z_score'] - kmerDF['rs3_z_score'].min()) / (kmerDF['rs3_z_score'].max() - kmerDF['rs3_z_score'].min())\n",
    "    kmerDF['rs3_score_norm'] = kmerDF['rs3_score_norm'].round(3)\n",
    "    #kmerDF = kmerDF[kmerDF['rs3_percentile'] > minPercentile]\n",
    "\n",
    "    kmerDF['id'] = kmerDF['id,sequence,pam,chromosome,position,sense'].str.split(',').str[0]\n",
    "\n",
    "    return kmerDF\n",
    "\n",
    "\n",
    "#    end_time = time.time()"
   ]
  },
  {
   "cell_type": "code",
   "execution_count": 122,
   "id": "6235aaa3-7c2b-4b50-ac08-1665324d13df",
   "metadata": {},
   "outputs": [],
   "source": [
    "def scoreGuides(rs3Weight = 0.67, gscanWeight = 0.33, kmersPerTscript = 10, minSpecificity = 0.5, minRS3 = 0.5, tracr = 'Hsu2013', threads = 2):\n",
    "\n",
    "    kmerDF = cleavageScoring(kmers = './tmp/loc_filtered_guides.tsv', tracr = tracr, threads = threads)\n",
    "\n",
    "    #print()\n",
    "\n",
    "    gscanTMPFile = './tmp/scored_guides_for_guidescan.csv'\n",
    "\n",
    "    kmerDF[['id,sequence,pam,chromosome,position,sense']].to_csv(gscanTMPFile, sep='\\t', index=False)\n",
    "    gscanDF = guideScanScoring(guideCSV = gscanTMPFile, guideIndex = '../chr21Index/chr21.fa.index', threads = 2, mismatches = 4)\n",
    "\n",
    "    kmerDF = kmerDF.merge(gscanDF[['id', 'specificity']], on='id', )\n",
    "\n",
    "    kmerDF[['sequence', 'pam']] = kmerDF['id,sequence,pam,chromosome,position,sense'].str.split(',', expand=True).iloc[:, 1:3]\n",
    "\n",
    "    kmerDF = kmerDF.drop(['id,sequence,pam,chromosome,position,sense', 'id'], axis = 1)\n",
    "\n",
    "    kmerDF = kmerDF[['chr', 'start', 'stop', 'sequence', 'pam', 'strand', 'context', 'tscripts',\n",
    "                    'rs3_z_score', 'rs3_percentile', 'rs3_score_norm', 'specificity']]\n",
    "\n",
    "    kmerDF['combined_score'] = rs3Weight * kmerDF['rs3_score_norm'] + gscanWeight * kmerDF['specificity'] \n",
    "\n",
    "    kmerDF.sort_values(by='combined_score', inplace=True, ascending=False)\n",
    "\n",
    "    # Drop guides below threshold scores\n",
    "    reducedKmerDF = kmerDF.drop(kmerDF[(kmerDF['specificity'] < minSpecificity) | \\\n",
    "                                       (kmerDF['rs3_score_norm'] < minRS3)].index)\n",
    "\n",
    "    reducedKmerDF.assign(tscripts=kmerDF['tscripts'].str.split(',')).explode('tscripts')\n",
    "\n",
    "    # Step 2: Sort by \"combined_score\" within each transcript\n",
    "    reducedKmerDF.sort_values(['tscripts', 'combined_score'], ascending=[True, False], inplace=True)\n",
    "\n",
    "    # Step 3: Keep only the top specified number of entries per transcript\n",
    "    reducedKmerDF = reducedKmerDF.groupby('tscripts').head(kmersPerTscript)\n",
    "\n",
    "    cols = reducedKmerDF.columns.tolist()  # get a list of all columns\n",
    "    cols.remove('tscripts')  # remove 'tscripts' from this list\n",
    "\n",
    "    reducedKmerDF = reducedKmerDF.groupby(cols, as_index=False)['tscripts'].apply(','.join).reset_index()\n",
    "\n",
    "    return kmerDF, reducedKmerDF"
   ]
  },
  {
   "cell_type": "code",
   "execution_count": 123,
   "id": "c3c0b03f-da0c-407f-a7c5-f4d1fdf88d0e",
   "metadata": {},
   "outputs": [
    {
     "name": "stdout",
     "output_type": "stream",
     "text": [
      "Calculating sequence-based features\n"
     ]
    },
    {
     "name": "stderr",
     "output_type": "stream",
     "text": [
      "100%|███████████████████████████████████████████████████████████████████████████████████████████████████████████████████████████████| 89/89 [00:00<00:00, 1692.76it/s]"
     ]
    },
    {
     "name": "stdout",
     "output_type": "stream",
     "text": [
      "[2023-08-07 18:48:56.813] [guidescan2] [info] Loading genome index at \"../chr21Index/chr21.fa.index\".\n"
     ]
    },
    {
     "name": "stderr",
     "output_type": "stream",
     "text": [
      "\n"
     ]
    },
    {
     "name": "stdout",
     "output_type": "stream",
     "text": [
      "[2023-08-07 18:48:56.899] [guidescan2] [info] Successfully loaded genome index.\n",
      "[2023-08-07 18:48:56.899] [guidescan2] [info] Loading kmers.\n",
      "[2023-08-07 18:48:56.899] [guidescan2] [info] Read in 89 kmer(s).\n",
      "[2023-08-07 18:48:58.836] [guidescan2] [info] Processed 89 kmers in 1 seconds.\n"
     ]
    }
   ],
   "source": [
    "kmerDF, reducedKmerDF = scoreGuides(rs3Weight = 0.67, gscanWeight = 0.33, kmersPerTscript = 10, minSpecificity = 0.85, minRS3 = 0.75, tracr = 'Hsu2013', threads = 2)\n",
    "\n",
    "Path(\"./final/\").mkdir(parents=True, exist_ok=True)\n",
    "\n",
    "kmerDF.to_csv(\"./final/AllScoredGuides.tsv\", sep=\"\\t\", index=False)\n",
    "\n",
    "reducedKmerDF.to_csv(\"./final/SelectedScoredGuides.tsv\", sep=\"\\t\", index=False)"
   ]
  },
  {
   "cell_type": "code",
   "execution_count": 6,
   "id": "f0b92c05-3b25-419e-af88-026bc12bb08a",
   "metadata": {},
   "outputs": [
    {
     "data": {
      "text/plain": [
       "\u001b[0;31mSignature:\u001b[0m\n",
       "\u001b[0mpredict_seq\u001b[0m\u001b[0;34m(\u001b[0m\u001b[0;34m\u001b[0m\n",
       "\u001b[0;34m\u001b[0m    \u001b[0mcontext_sequences\u001b[0m\u001b[0;34m,\u001b[0m\u001b[0;34m\u001b[0m\n",
       "\u001b[0;34m\u001b[0m    \u001b[0msequence_tracr\u001b[0m\u001b[0;34m=\u001b[0m\u001b[0;34m'Hsu2013'\u001b[0m\u001b[0;34m,\u001b[0m\u001b[0;34m\u001b[0m\n",
       "\u001b[0;34m\u001b[0m    \u001b[0mref_tracrs\u001b[0m\u001b[0;34m=\u001b[0m\u001b[0;32mNone\u001b[0m\u001b[0;34m,\u001b[0m\u001b[0;34m\u001b[0m\n",
       "\u001b[0;34m\u001b[0m    \u001b[0mn_jobs\u001b[0m\u001b[0;34m=\u001b[0m\u001b[0;36m1\u001b[0m\u001b[0;34m,\u001b[0m\u001b[0;34m\u001b[0m\n",
       "\u001b[0;34m\u001b[0m\u001b[0;34m)\u001b[0m\u001b[0;34m\u001b[0m\u001b[0;34m\u001b[0m\u001b[0m\n",
       "\u001b[0;31mDocstring:\u001b[0m\n",
       "Predict the activity of context sequence for SpCas9 Knockout using sequence information only\n",
       "\n",
       ":param context_sequences: list of str\n",
       ":return: list of float, predictions\n",
       "\u001b[0;31mFile:\u001b[0m      ~/.local/lib/python3.10/site-packages/rs3/seq.py\n",
       "\u001b[0;31mType:\u001b[0m      function"
      ]
     },
     "metadata": {},
     "output_type": "display_data"
    }
   ],
   "source": [
    "?predict_seq"
   ]
  },
  {
   "cell_type": "code",
   "execution_count": 7,
   "id": "a5269193-dfdb-4ccd-8c7f-2c3c117075c2",
   "metadata": {},
   "outputs": [],
   "source": [
    "from concurrent.futures import ProcessPoolExecutor\n"
   ]
  }
 ],
 "metadata": {
  "kernelspec": {
   "display_name": "Python 3 (ipykernel)",
   "language": "python",
   "name": "python3"
  },
  "language_info": {
   "codemirror_mode": {
    "name": "ipython",
    "version": 3
   },
   "file_extension": ".py",
   "mimetype": "text/x-python",
   "name": "python",
   "nbconvert_exporter": "python",
   "pygments_lexer": "ipython3",
   "version": "3.10.11"
  }
 },
 "nbformat": 4,
 "nbformat_minor": 5
}
