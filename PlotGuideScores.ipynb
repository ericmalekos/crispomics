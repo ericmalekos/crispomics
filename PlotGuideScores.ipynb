{
 "cells": [
  {
   "cell_type": "code",
   "execution_count": 1,
   "id": "45c16039-4a42-4821-a089-f3b3e4fa2bfc",
   "metadata": {},
   "outputs": [],
   "source": [
    "import matplotlib.pyplot as plt\n",
    "import numpy as np\n",
    "import matplotlib.patches as mpatches"
   ]
  },
  {
   "cell_type": "code",
   "execution_count": null,
   "id": "b71a671e-f153-44b4-bcf5-e2978f5c9b65",
   "metadata": {},
   "outputs": [],
   "source": []
  },
  {
   "cell_type": "code",
   "execution_count": null,
   "id": "e6ffec53-3227-45ca-be95-eb330f8169eb",
   "metadata": {},
   "outputs": [],
   "source": []
  },
  {
   "cell_type": "code",
   "execution_count": null,
   "id": "85baabe8-af63-44f7-9cd5-f9dab780c36c",
   "metadata": {},
   "outputs": [],
   "source": [
    "minSpecificity = 0.8\n",
    "minCleavage = 0.8\n",
    "\n",
    "# Create a new column \"color\" based on condition\n",
    "conditions = [\n",
    "    (kmerDF['rs3_score_norm'] >= minCleavage) & (kmerDF['specificity'] >= minSpecificity),\n",
    "    (kmerDF['rs3_score_norm'] < minCleavage) | (kmerDF['specificity'] < minSpecificity),\n",
    "]\n",
    "\n",
    "choices = ['green', 'black']\n",
    "\n",
    "kmerDF['color'] = np.select(conditions, choices, default='black')\n",
    "\n",
    "# Plot with colors\n",
    "ax = kmerDF.plot.scatter(x='rs3_score_norm', y='specificity', c=kmerDF['color'], label='Below Cutoff')\n",
    "\n",
    "# Adding scatter plot for above cutoff points with different color and label\n",
    "aboveCutoff = kmerDF[kmerDF['color'] == 'green']\n",
    "ax.scatter(aboveCutoff['rs3_score_norm'], aboveCutoff['specificity'], color='green')\n",
    "\n",
    "# Add horizontal line at y-position minSpecificity\n",
    "ax.axhline(minSpecificity, color='red')\n",
    "\n",
    "# Add vertical line at x-position minCleavage\n",
    "ax.axvline(minCleavage, color='red')\n",
    "\n",
    "# Set x and y axes limits\n",
    "ax.set_xlim([-0.05, 1.05])\n",
    "ax.set_ylim([-0.05, 1.05])\n",
    "\n",
    "# Create custom legend\n",
    "belowCutoffPatch = mpatches.Patch(color='black', label='Below cutoffs')\n",
    "aboveCutoffPatch = mpatches.Patch(color='green', label='Guides above cutoffs')\n",
    "plt.legend(handles=[belowCutoffPatch, aboveCutoffPatch])\n",
    "\n",
    "# Show the number of guides beyond cutoff\n",
    "numGuidesBeyondCutoff = len(aboveCutoff)\n",
    "print(f\"Number of guides beyond cutoff: {numGuidesBeyondCutoff}\")\n",
    "\n",
    "plt.show()"
   ]
  }
 ],
 "metadata": {
  "kernelspec": {
   "display_name": "Python 3 (ipykernel)",
   "language": "python",
   "name": "python3"
  },
  "language_info": {
   "codemirror_mode": {
    "name": "ipython",
    "version": 3
   },
   "file_extension": ".py",
   "mimetype": "text/x-python",
   "name": "python",
   "nbconvert_exporter": "python",
   "pygments_lexer": "ipython3",
   "version": "3.10.11"
  }
 },
 "nbformat": 4,
 "nbformat_minor": 5
}
