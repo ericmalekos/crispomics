{
 "cells": [
  {
   "cell_type": "code",
   "execution_count": 1,
   "id": "a2abed1d-efca-4bb2-a5d9-2a476e7cca4b",
   "metadata": {},
   "outputs": [],
   "source": [
    "import pandas as pd\n",
    "import subprocess\n",
    "import os\n",
    "from rs3.seq import predict_seq\n",
    "import time\n",
    "from scipy.stats import norm\n"
   ]
  },
  {
   "cell_type": "code",
   "execution_count": null,
   "id": "d446519f-af04-4631-9d96-a08e53f99cfd",
   "metadata": {},
   "outputs": [],
   "source": [
    "class Args:\n",
    "    threads = \"6\"\n",
    "    mismatches = \"5\"\n",
    "    #altpams = NAG\n",
    "    kmers = \"./\"\n",
    "    ouput= \"\"\n",
    "    "
   ]
  },
  {
   "cell_type": "code",
   "execution_count": null,
   "id": "c916f023-9eec-4ac9-807b-3f4bf0a69603",
   "metadata": {},
   "outputs": [],
   "source": [
    "os.chdir(\"./crispomics/\")"
   ]
  },
  {
   "cell_type": "code",
   "execution_count": 2,
   "id": "9d0aba47-4d49-4e58-862f-bb1c4483afe9",
   "metadata": {},
   "outputs": [
    {
     "name": "stdout",
     "output_type": "stream",
     "text": [
      "filtered_file.csv\t   launch.json\t\tSPI1.gff3.db\n",
      "FilterKmerBED\t\t   out.bed\t\tstdout\n",
      "finalKmers.bed\t\t   out.gff3\t\ttest\n",
      "GenerateKmerBED\t\t   output.gff3\t\ttmp\n",
      "gscan.csv\t\t   ProcessAnnotation\ttrimmedAnnotation.gff\n",
      "guideScanOut_complete.csv  README.md\t\ttrimmed.gtf\n",
      "guideScanOut.csv\t   ScoringGuides.ipynb\n",
      "kmers.bed\t\t   SPI1.gff3\n"
     ]
    }
   ],
   "source": [
    "!ls"
   ]
  },
  {
   "cell_type": "code",
   "execution_count": 3,
   "id": "5cbfb6d7-d2a1-4dda-8a57-9e93dc246a63",
   "metadata": {},
   "outputs": [],
   "source": [
    "def guideScanScoring(guideCSV, guideIndex, threads = 2, mismatches = 4):\n",
    "    tempOutput = \"./tmp/guideScanOut.csv\"\n",
    "    cmd = [\n",
    "        \"guidescan\",\n",
    "        \"enumerate\",\n",
    "        \"--max-off-targets\",\n",
    "        \"-1\",\n",
    "        \"--threads\",\n",
    "        threads,\n",
    "        \"--mismatches\",\n",
    "        mismatches,\n",
    "        \"--format\",\n",
    "        \"csv\",\n",
    "        \"--mode\",\n",
    "        \"succinct\",\n",
    "        \"--kmers-file\",\n",
    "        guideCSV,\n",
    "        \"--output\",\n",
    "        tempOutput,\n",
    "        guideIndex\n",
    "    ]\n",
    "\n",
    "    subprocess.run(cmd, check=True)\n",
    "\n",
    "    # read the csv file\n",
    "    gscanDF = pd.read_csv(tempOutput)\n",
    "\n",
    "    # drop duplicate rows and keep the first occurrence\n",
    "    gscanDF = kmerDF.drop_duplicates(subset='id', keep='first')\n",
    "\n",
    "    # write the result to a new csv file\n",
    "    return gscanDF"
   ]
  },
  {
   "cell_type": "code",
   "execution_count": 4,
   "id": "c888974a-8a98-4ceb-a4fe-b717e3c6fee5",
   "metadata": {
    "tags": []
   },
   "outputs": [],
   "source": [
    "def cleavageScoring(kmers, minPercentile = 0.25, tracr = 'Hsu2013', threads = 2):\n",
    "#start_time = time.time()\n",
    "    kmerDF = pd.read_csv(kmers, delimiter=\"\\t\", \\\n",
    "                         header=0 )\n",
    "    # guideScores = predict_seq(sgRNAlist, sequence_tracr='Hsu2013', n_jobs=12)\n",
    "\n",
    "    sgRNAlist = kmerDF[\"context\"].tolist() # 1709 seconds chr21, 12 cores \n",
    "    # test\n",
    "    #kmerDF = kmerDF.head(10005)\n",
    "\n",
    "    # process the list in chunks to reduce memory footprint\n",
    "    chunk_size = 100000\n",
    "\n",
    "    sgRNAScores = []\n",
    "\n",
    "    # Iterate over big_list in chunks of size chunk_size\n",
    "    for i in range(0, len(sgRNAlist), chunk_size):\n",
    "        sublist = sgRNAlist[i:i + chunk_size]\n",
    "        processed_sublist = predict_seq(sublist, sequence_tracr=tracr, n_jobs=threads)\n",
    "        sgRNAScores.extend(processed_sublist)\n",
    "\n",
    "    kmerDF['rs3_z_scores'] = sgRNAScores\n",
    "    kmerDF['rs3_percentiles'] = norm.cdf(kmerDF['rs3_z_scores'])\n",
    "    kmerDF = kmerDF[kmerDF['rs3_percentiles'] < minPercentile]\n",
    "\n",
    "    return kmerDF\n",
    "\n",
    "\n",
    "#    end_time = time.time()"
   ]
  },
  {
   "cell_type": "code",
   "execution_count": 5,
   "id": "6235aaa3-7c2b-4b50-ac08-1665324d13df",
   "metadata": {},
   "outputs": [
    {
     "ename": "NameError",
     "evalue": "name 'sgRNAlist' is not defined",
     "output_type": "error",
     "traceback": [
      "\u001b[0;31m---------------------------------------------------------------------------\u001b[0m",
      "\u001b[0;31mNameError\u001b[0m                                 Traceback (most recent call last)",
      "Cell \u001b[0;32mIn[5], line 1\u001b[0m\n\u001b[0;32m----> 1\u001b[0m kmerDF \u001b[38;5;241m=\u001b[39m \u001b[43mcleavageScoring\u001b[49m\u001b[43m(\u001b[49m\u001b[43mkmers\u001b[49m\u001b[43m \u001b[49m\u001b[38;5;241;43m=\u001b[39;49m\u001b[43m \u001b[49m\u001b[38;5;124;43m\"\u001b[39;49m\u001b[38;5;124;43m./tmp/loc_filtered_guides.tsv\u001b[39;49m\u001b[38;5;124;43m\"\u001b[39;49m\u001b[43m)\u001b[49m\n\u001b[1;32m      3\u001b[0m gscanTMPFile \u001b[38;5;241m=\u001b[39m \u001b[38;5;124m\"\u001b[39m\u001b[38;5;124m./tmp/scored_guides_for_guidescan.csv\u001b[39m\u001b[38;5;124m\"\u001b[39m\n\u001b[1;32m      5\u001b[0m kmerDF[[\u001b[38;5;124m\"\u001b[39m\u001b[38;5;124mid,sequence,pam,chromosome,position,sense\u001b[39m\u001b[38;5;124m\"\u001b[39m]]\u001b[38;5;241m.\u001b[39mto_csv(gscanTMPFile, sep\u001b[38;5;241m=\u001b[39m\u001b[38;5;124m\"\u001b[39m\u001b[38;5;130;01m\\t\u001b[39;00m\u001b[38;5;124m\"\u001b[39m, index\u001b[38;5;241m=\u001b[39m\u001b[38;5;28;01mFalse\u001b[39;00m)\n",
      "Cell \u001b[0;32mIn[4], line 17\u001b[0m, in \u001b[0;36mcleavageScoring\u001b[0;34m(kmers, minPercentile, tracr, threads)\u001b[0m\n\u001b[1;32m     14\u001b[0m sgRNAScores \u001b[38;5;241m=\u001b[39m []\n\u001b[1;32m     16\u001b[0m \u001b[38;5;66;03m# Iterate over big_list in chunks of size chunk_size\u001b[39;00m\n\u001b[0;32m---> 17\u001b[0m \u001b[38;5;28;01mfor\u001b[39;00m i \u001b[38;5;129;01min\u001b[39;00m \u001b[38;5;28mrange\u001b[39m(\u001b[38;5;241m0\u001b[39m, \u001b[38;5;28mlen\u001b[39m(\u001b[43msgRNAlist\u001b[49m), chunk_size):\n\u001b[1;32m     18\u001b[0m     sublist \u001b[38;5;241m=\u001b[39m sgRNAlist[i:i \u001b[38;5;241m+\u001b[39m chunk_size]\n\u001b[1;32m     19\u001b[0m     processed_sublist \u001b[38;5;241m=\u001b[39m predict_seq(sublist, sequence_tracr\u001b[38;5;241m=\u001b[39mtracr, n_jobs\u001b[38;5;241m=\u001b[39mthreads)\n",
      "\u001b[0;31mNameError\u001b[0m: name 'sgRNAlist' is not defined"
     ]
    }
   ],
   "source": [
    "kmerDF = cleavageScoring(kmers = \"./tmp/loc_filtered_guides.tsv\")\n",
    "\n",
    "gscanTMPFile = \"./tmp/scored_guides_for_guidescan.csv\"\n",
    "\n",
    "kmerDF[[\"id,sequence,pam,chromosome,position,sense\"]].to_csv(gscanTMPFile, sep=\"\\t\", index=False)\n",
    "gscanDF = guideScanScoring(guideCSV = gscanTMPFile, guideIndex = \"../chr21Index/chr21.fa.index\", threads = 2, mismatches = 4)\n"
   ]
  },
  {
   "cell_type": "code",
   "execution_count": 40,
   "id": "c3c0b03f-da0c-407f-a7c5-f4d1fdf88d0e",
   "metadata": {},
   "outputs": [],
   "source": [
    "kmerDF"
   ]
  },
  {
   "cell_type": "code",
   "execution_count": null,
   "id": "ef72d94a-aac0-452a-9ea6-24e03adc82de",
   "metadata": {},
   "outputs": [],
   "source": []
  }
 ],
 "metadata": {
  "kernelspec": {
   "display_name": "Python 3 (ipykernel)",
   "language": "python",
   "name": "python3"
  },
  "language_info": {
   "codemirror_mode": {
    "name": "ipython",
    "version": 3
   },
   "file_extension": ".py",
   "mimetype": "text/x-python",
   "name": "python",
   "nbconvert_exporter": "python",
   "pygments_lexer": "ipython3",
   "version": "3.10.11"
  }
 },
 "nbformat": 4,
 "nbformat_minor": 5
}
